{
 "cells": [
  {
   "cell_type": "code",
   "execution_count": 22,
   "metadata": {},
   "outputs": [],
   "source": [
    "import pandas as pd \n",
    "import numpy as np\n",
    "from scipy import stats\n",
    "from sklearn.model_selection import train_test_split"
   ]
  },
  {
   "cell_type": "code",
   "execution_count": 23,
   "metadata": {},
   "outputs": [],
   "source": [
    "data = pd.read_csv(\"D:/PublicationWork/Alok-Mastor/Dataset/parkinsons_updrs.csv\")\n",
    "# data.head()"
   ]
  },
  {
   "cell_type": "code",
   "execution_count": 24,
   "metadata": {},
   "outputs": [],
   "source": [
    "# Check for NaN values\n",
    "nan_values = data.isna().sum()\n",
    "# print(nan_values)\n",
    "\n",
    "# Correct NaN values by filling them with appropriate values\n",
    "# data.fillna(value, inplace=True)\n"
   ]
  },
  {
   "cell_type": "code",
   "execution_count": 25,
   "metadata": {},
   "outputs": [],
   "source": [
    "skewness = data.skew()\n",
    "# print(skewness)\n"
   ]
  },
  {
   "cell_type": "code",
   "execution_count": 26,
   "metadata": {},
   "outputs": [],
   "source": [
    "import pandas as pd\n",
    "import numpy as np\n",
    "\n",
    "# Assuming 'data' is the DataFrame containing your dataset\n",
    "column_names = list(data.columns)\n",
    "\n",
    "outliers = []\n",
    "for col_name in column_names:\n",
    "    # Calculate the IQR for the column\n",
    "    q1 = data[col_name].quantile(0.25)\n",
    "    q3 = data[col_name].quantile(0.75)\n",
    "    iqr = q3 - q1\n",
    "\n",
    "    # Define the upper and lower bounds for outliers\n",
    "    lower_bound = q1 - 1.5 * iqr\n",
    "    upper_bound = q3 + 1.5 * iqr\n",
    "\n",
    "    # Find the outliers in the column\n",
    "    column_outliers = data[(data[col_name] < lower_bound) | (data[col_name] > upper_bound)]\n",
    "    outliers.append(column_outliers)\n",
    "\n",
    "# Print the outliers for each column\n",
    "# for i, col_name in enumerate(column_names):\n",
    "#     print(f\"Outliers in column '{col_name}':\")\n",
    "#     print(outliers[i])\n",
    "#     print()\n"
   ]
  },
  {
   "cell_type": "code",
   "execution_count": 27,
   "metadata": {},
   "outputs": [],
   "source": [
    "\n",
    "column_names = list(data.columns)\n",
    "column_names = column_names[:-1]\n",
    "\n",
    "skewedCols = []\n",
    "for names in column_names:\n",
    "    skewVal = data[names].skew()\n",
    "    if(skewVal>1 or skewVal<-1):\n",
    "        skewedCols.append(names)\n",
    "# print(skewedCols)\n",
    "# print(len(skewedCols))\n",
    "\n",
    "#   Name of the cols containing atleast one negative value\n",
    "skewedCols_NegativeVals = []\n",
    "for col_name in skewedCols:\n",
    "    for values in data[col_name]:\n",
    "        if(values < 0):\n",
    "            skewedCols_NegativeVals.append(col_name)\n",
    "            break\n",
    "# print(len(skewedCols_NegativeVals))\n",
    "\n",
    "#   Name of the cols containing atleast one zero values\n",
    "skewedCols_ZeroVals = []\n",
    "for col_name in skewedCols:\n",
    "    if col_name in skewedCols_NegativeVals:\n",
    "        continue\n",
    "    else:\n",
    "        for values in data[col_name]:\n",
    "            if(values == 0):\n",
    "                skewedCols_ZeroVals.append(col_name)\n",
    "                break\n",
    "# print(len(skewedCols_ZeroVals))\n",
    "\n",
    "#   Name of the cols containing only positive values\n",
    "skewedCols_PositiveVals = []\n",
    "for col_name in skewedCols:\n",
    "    if (col_name not in skewedCols_NegativeVals and col_name not in skewedCols_ZeroVals):\n",
    "        skewedCols_PositiveVals.append(col_name)\n",
    "# print(len(skewedCols_PositiveVals))\n",
    "\n",
    "#   Box-Cox Transformation\n",
    "for col_name in skewedCols_PositiveVals:\n",
    "    data[col_name] = stats.boxcox(data[col_name],lmbda=0)\n",
    "\n",
    "count = 0\n",
    "for col_name in skewedCols_PositiveVals:\n",
    "    skewVal = data[col_name].skew()\n",
    "    if skewVal>1 or skewVal<-1:\n",
    "        count = count + 1\n",
    "# print(count)\n",
    "# print(data)\n",
    "\n",
    "#   CubeRoot Transformation on skewedCols_NegativeVals & skewedCols_ZeroVals\n",
    "for col_name in skewedCols_NegativeVals:\n",
    "    data[col_name] = np.cbrt(data[col_name])\n",
    "for col_name in skewedCols_ZeroVals:\n",
    "    data[col_name] = np.cbrt(data[col_name])\n",
    "\n",
    "count = 0\n",
    "for col_name in skewedCols_NegativeVals:\n",
    "    skewVal = data[col_name].skew()\n",
    "    if skewVal>1 or skewVal<-1:\n",
    "        count = count + 1\n",
    "# print(count)\n",
    "# print(data)\n",
    "\n",
    "import statistics\n",
    "for col_name in column_names:\n",
    "    qi = data[col_name].quantile(0.25)\n",
    "    qf = data[col_name].quantile(0.75)\n",
    "\n",
    "    iqr = qf - qi\n",
    "    c = 1.5\n",
    "    upper_limit=qf+c*iqr\n",
    "    lower_limit=qi-c*iqr\n",
    "\n",
    "    col_median = statistics.mean(data[col_name].to_numpy())\n",
    "    for val in data[col_name]:\n",
    "        if val < lower_limit or val > upper_limit:\n",
    "            data[col_name] = data[col_name].replace(val,col_median)\n"
   ]
  },
  {
   "cell_type": "code",
   "execution_count": 28,
   "metadata": {},
   "outputs": [],
   "source": [
    "# data['severity'] = data['motor_UPDRS'].apply(lambda x: 0 if 0 < x < 20 else 1)"
   ]
  },
  {
   "cell_type": "code",
   "execution_count": 29,
   "metadata": {},
   "outputs": [],
   "source": [
    "# Y1 = data['severity']\n",
    "# # Y2 = data['motor_UPDRS']\n",
    "# X1 = data.drop(['subject#', 'motor_UPDRS', 'age','sex','test_time','severity'], axis=1)\n",
    "# X2 = data.drop(['subject#', 'total_UPDRS', 'age','sex','test_time','severity'], axis=1)\n",
    "# print(X2.shape)\n",
    "# print(Y1.shape)"
   ]
  },
  {
   "cell_type": "code",
   "execution_count": 30,
   "metadata": {},
   "outputs": [
    {
     "name": "stdout",
     "output_type": "stream",
     "text": [
      "(5875, 17)\n",
      "(5875,)\n"
     ]
    }
   ],
   "source": [
    "Y2=data['total_UPDRS']\n",
    "X2=data.drop(['subject#', 'total_UPDRS', 'age','sex','test_time'], axis=1)\n",
    "print(X2.shape)\n",
    "print(Y2.shape)"
   ]
  },
  {
   "cell_type": "markdown",
   "metadata": {},
   "source": [
    "<h1><b>PyTorch regression model"
   ]
  },
  {
   "cell_type": "code",
   "execution_count": 31,
   "metadata": {},
   "outputs": [
    {
     "name": "stdout",
     "output_type": "stream",
     "text": [
      "Epoch [450/9000], Loss: 2.1052, R2 Score: 0.8938\n",
      "Epoch [900/9000], Loss: 2.0720, R2 Score: 0.8955\n",
      "Epoch [1350/9000], Loss: 2.0427, R2 Score: 0.8969\n",
      "Epoch [1800/9000], Loss: 2.0128, R2 Score: 0.8983\n",
      "Epoch [2250/9000], Loss: 1.9856, R2 Score: 0.8994\n",
      "Epoch [2700/9000], Loss: 1.9715, R2 Score: 0.9000\n",
      "Epoch [3150/9000], Loss: 1.9641, R2 Score: 0.9004\n",
      "Epoch [3600/9000], Loss: 1.9585, R2 Score: 0.9009\n",
      "Epoch [4050/9000], Loss: 1.9542, R2 Score: 0.9010\n",
      "Epoch [4500/9000], Loss: 1.9506, R2 Score: 0.9014\n",
      "Epoch [4950/9000], Loss: 1.9533, R2 Score: 0.9025\n",
      "Epoch [5400/9000], Loss: 1.9457, R2 Score: 0.9018\n",
      "Epoch [5850/9000], Loss: 1.9442, R2 Score: 0.9019\n",
      "Epoch [6300/9000], Loss: 1.9430, R2 Score: 0.9020\n",
      "Epoch [6750/9000], Loss: 1.9421, R2 Score: 0.9021\n",
      "Epoch [7200/9000], Loss: 1.9414, R2 Score: 0.9021\n",
      "Epoch [7650/9000], Loss: 1.9410, R2 Score: 0.9020\n",
      "Epoch [8100/9000], Loss: 1.9414, R2 Score: 0.9026\n",
      "Epoch [8550/9000], Loss: 1.9456, R2 Score: 0.9031\n",
      "Epoch [9000/9000], Loss: 1.9538, R2 Score: 0.9034\n",
      "Best Model, Epoch [8980/9000], Loss: 1.9399, R2 Score: 0.9023\n",
      "Testing Loss: 1.8253, Testing R2 Score: 0.9051\n"
     ]
    }
   ],
   "source": [
    "import torch\n",
    "import torch.nn as nn\n",
    "import torch.optim as optim\n",
    "from sklearn.model_selection import train_test_split\n",
    "from sklearn.metrics import r2_score\n",
    "\n",
    "# Define the neural network model\n",
    "class RegressionModel(nn.Module):\n",
    "    def __init__(self, input_size, h1, h2, h3, output_size):\n",
    "        super(RegressionModel, self).__init__()\n",
    "        self.fc1 = nn.Linear(input_size, h1)\n",
    "        self.fc2 = nn.Linear(h1, h2)\n",
    "        self.fc3 = nn.Linear(h2, h3)\n",
    "        self.fc4 = nn.Linear(h3, output_size)\n",
    "        self.relu = nn.ReLU()\n",
    "\n",
    "    def forward(self, x):\n",
    "        x = self.fc1(x)\n",
    "        x = self.fc2(x)\n",
    "        x = self.fc3(x)\n",
    "        x= self.fc4(x)\n",
    "        x = self.relu(x)\n",
    "        return x\n",
    "\n",
    "# Split the data into training and testing sets\n",
    "X_train, X_test, Y2_train, Y2_test = train_test_split(X2, Y2, test_size=0.1, random_state=42)\n",
    "\n",
    "# Convert the data to PyTorch tensors\n",
    "X_train_tensor = torch.tensor(X_train.values, dtype=torch.float32)\n",
    "Y2_train_tensor = torch.tensor(Y2_train.values, dtype=torch.float32)\n",
    "X_test_tensor = torch.tensor(X_test.values, dtype=torch.float32)\n",
    "Y2_test_tensor = torch.tensor(Y2_test.values, dtype=torch.float32)\n",
    "\n",
    "# Define the hyperparameters\n",
    "input_size = X_train.shape[1]\n",
    "# hidden_size = 10\n",
    "h1=10\n",
    "h2=20\n",
    "h3=10\n",
    "output_size = 1\n",
    "learning_rate = 0.001\n",
    "num_epochs = 9000\n",
    "\n",
    "# Create an instance of the regression model\n",
    "model = RegressionModel(input_size, h1,h2,h3, output_size)\n",
    "\n",
    "# Define the loss function and optimizer\n",
    "criterion = nn.SmoothL1Loss()\n",
    "optimizer = optim.Adam(model.parameters(), lr=learning_rate)\n",
    "\n",
    "best_model = None\n",
    "best_epoch = -1\n",
    "best_loss = float('inf')\n",
    "\n",
    "# Before the training loop\n",
    "Y2_train_tensor = Y2_train_tensor.view(-1, 1)\n",
    "\n",
    "errors = []\n",
    "accuracies = []\n",
    "\n",
    "# Lists to store the metrics\n",
    "train_loss_list = []\n",
    "test_loss_list = []\n",
    "train_r2_list = []\n",
    "test_r2_list = []\n",
    "\n",
    "# Training loop\n",
    "for epoch in range(num_epochs):\n",
    "    # Forward pass\n",
    "    outputs = model(X_train_tensor)\n",
    "    loss = criterion(outputs, Y2_train_tensor)\n",
    "\n",
    "     # Compute R2 score\n",
    "    outputs_np = outputs.detach().numpy()\n",
    "    targets_np = Y2_train_tensor.numpy()\n",
    "    r2 = r2_score(targets_np, outputs_np)\n",
    "\n",
    "\n",
    "    # Backward and optimize\n",
    "    optimizer.zero_grad()\n",
    "    loss.backward()\n",
    "    optimizer.step()\n",
    "\n",
    "    # Calculate error and accuracy here...\n",
    "    # errors.append(loss.item())\n",
    "    # accuracies.append(r2)\n",
    "\n",
    "    # Check if this model is better than the previous best model\n",
    "    if loss.item() < best_loss:\n",
    "        best_model = model\n",
    "        best_epoch = epoch\n",
    "        best_loss = loss.item()\n",
    "        best_r2 = r2\n",
    "\n",
    "    # Print the loss for every 100 epochs\n",
    "    if (epoch+1) % 450 == 0:\n",
    "        model.eval()\n",
    "        with torch.no_grad():\n",
    "            outputs_test = model(X_test_tensor)\n",
    "            loss_test = criterion(outputs_test, Y2_test_tensor.view(-1, 1))\n",
    "\n",
    "        # Compute R2 score for the testing set\n",
    "        outputs_test_np = outputs_test.detach().numpy()\n",
    "        targets_test_np = Y2_test_tensor.numpy()\n",
    "        r2_test = r2_score(targets_test_np, outputs_test_np)\n",
    "\n",
    "        # Store the metrics\n",
    "        train_loss_list.append(loss.item())\n",
    "        test_loss_list.append(loss_test.item())\n",
    "        train_r2_list.append(r2)\n",
    "        test_r2_list.append(r2_test)\n",
    "\n",
    "        # Print the metrics        \n",
    "        print(f'Epoch [{epoch+1}/{num_epochs}], Loss: {loss.item():.4f}, R2 Score: {r2:.4f}')\n",
    "\n",
    "# Print the metrics for the best model\n",
    "print(f'Best Model, Epoch [{best_epoch+1}/{num_epochs}], Loss: {best_loss:.4f}, R2 Score: {best_r2:.4f}')\n",
    "\n",
    "# Evaluate the best model on the testing set\n",
    "model.eval()\n",
    "with torch.no_grad():\n",
    "    outputs_test = best_model(X_test_tensor)\n",
    "    loss_test = criterion(outputs_test, Y2_test_tensor.view(-1, 1))\n",
    "\n",
    "# Compute R2 score for the testing set\n",
    "outputs_test_np = outputs_test.detach().numpy()\n",
    "targets_test_np = Y2_test_tensor.numpy()\n",
    "r2_test = r2_score(targets_test_np, outputs_test_np)\n",
    "\n",
    "# Print the loss and R2 score for the testing set\n",
    "print(f'Testing Loss: {loss_test.item():.4f}, Testing R2 Score: {r2_test:.4f}')\n"
   ]
  },
  {
   "cell_type": "code",
   "execution_count": 32,
   "metadata": {},
   "outputs": [
    {
     "data": {
      "image/png": "[encoded data removed]",
      "text/plain": [
       "<Figure size 1000x600 with 1 Axes>"
      ]
     },
     "metadata": {},
     "output_type": "display_data"
    }
   ],
   "source": [
    "import matplotlib.pyplot as plt\n",
    "\n",
    "# Create a new figure\n",
    "plt.figure(figsize=(10, 6))\n",
    "\n",
    "# Plot the training accuracy\n",
    "plt.plot([i * 450 for i in range(len(train_r2_list))], train_r2_list, label='Training Accuracy', marker='o')\n",
    "\n",
    "# Plot the testing accuracy\n",
    "plt.plot([i * 450 for i in range(len(test_r2_list))], test_r2_list, label='Testing Accuracy', marker='x')\n",
    "\n",
    "# Add a legend\n",
    "plt.legend()\n",
    "\n",
    "# Set the x and y labels\n",
    "plt.xlabel('Epochs')\n",
    "plt.ylabel('Accuracy')\n",
    "\n",
    "# Set the title\n",
    "plt.title('Training and Testing Accuracy per 450 Epochs')\n",
    "\n",
    "# Add a grid\n",
    "plt.grid(True)\n",
    "\n",
    "# Show the plot\n",
    "plt.show()"
   ]
  },
  {
   "cell_type": "code",
   "execution_count": 33,
   "metadata": {},
   "outputs": [
    {
     "data": {
      "image/png": "[encoded data removed]",
      "text/plain": [
       "<Figure size 1000x600 with 1 Axes>"
      ]
     },
     "metadata": {},
     "output_type": "display_data"
    }
   ],
   "source": [
    "import matplotlib.pyplot as plt\n",
    "\n",
    "# Create a new figure\n",
    "plt.figure(figsize=(10, 6))\n",
    "\n",
    "# Plot the training accuracy\n",
    "plt.plot([i * 450 for i in range(len(train_loss_list))], train_loss_list, label='Training Loss', marker='o')\n",
    "\n",
    "# Plot the testing accuracy\n",
    "plt.plot([i * 450 for i in range(len(test_loss_list))], test_loss_list, label='Testing Loss', marker='x')\n",
    "\n",
    "# Add a legend\n",
    "plt.legend()\n",
    "\n",
    "# Set the x and y labels\n",
    "plt.xlabel('Epochs')\n",
    "plt.ylabel('Loss')\n",
    "\n",
    "# Set the title\n",
    "plt.title('Training and Testing Loss per 450 Epochs')\n",
    "\n",
    "# Add a grid\n",
    "plt.grid(True)\n",
    "\n",
    "# Show the plot\n",
    "plt.show()"
   ]
  },
  {
   "cell_type": "markdown",
   "metadata": {},
   "source": [
    "<h3><b>Using PyTorch"
   ]
  },
  {
   "cell_type": "code",
   "execution_count": 34,
   "metadata": {},
   "outputs": [
    {
     "ename": "NameError",
     "evalue": "name 'X1' is not defined",
     "output_type": "error",
     "traceback": [
      "\u001b[1;31m---------------------------------------------------------------------------\u001b[0m",
      "\u001b[1;31mNameError\u001b[0m                                 Traceback (most recent call last)",
      "Cell \u001b[1;32mIn[34], line 27\u001b[0m\n\u001b[0;32m     24\u001b[0m         \u001b[38;5;28;01mreturn\u001b[39;00m x\n\u001b[0;32m     26\u001b[0m \u001b[38;5;66;03m# Split the data into training and testing sets\u001b[39;00m\n\u001b[1;32m---> 27\u001b[0m X_train, X_test, Y1_train, Y1_test \u001b[38;5;241m=\u001b[39m train_test_split(\u001b[43mX1\u001b[49m, Y1, test_size\u001b[38;5;241m=\u001b[39m\u001b[38;5;241m0.1\u001b[39m, random_state\u001b[38;5;241m=\u001b[39m\u001b[38;5;241m42\u001b[39m)\n\u001b[0;32m     29\u001b[0m \u001b[38;5;66;03m# Convert the data to PyTorch tensors\u001b[39;00m\n\u001b[0;32m     30\u001b[0m X_train_tensor \u001b[38;5;241m=\u001b[39m torch\u001b[38;5;241m.\u001b[39mtensor(X_train\u001b[38;5;241m.\u001b[39mvalues, dtype\u001b[38;5;241m=\u001b[39mtorch\u001b[38;5;241m.\u001b[39mfloat32)\n",
      "\u001b[1;31mNameError\u001b[0m: name 'X1' is not defined"
     ]
    }
   ],
   "source": [
    "import torch\n",
    "import torch.nn as nn\n",
    "import torch.optim as optim\n",
    "from sklearn.model_selection import train_test_split\n",
    "\n",
    "# Define the neural network model\n",
    "class ClassificationModel(nn.Module):\n",
    "    def __init__(self, input_size, h1,h2,h3, output_size):\n",
    "        super(ClassificationModel, self).__init__()\n",
    "        self.fc1 = nn.Linear(input_size, h1)\n",
    "        self.fc2 = nn.Linear(h1, h2)\n",
    "        self.fc3 = nn.Linear(h2, h3)\n",
    "        # self.relu = nn.ReLU()\n",
    "        self.fc4 = nn.Linear(h3, output_size)\n",
    "        self.sigmoid = nn.Sigmoid()\n",
    "\n",
    "    def forward(self, x):\n",
    "        x = self.fc1(x)\n",
    "        x = self.fc2(x)\n",
    "        x = self.fc3(x)\n",
    "        # x= self.relu(x)\n",
    "        x = self.fc4(x)\n",
    "        x = self.sigmoid(x)\n",
    "        return x\n",
    "\n",
    "# Split the data into training and testing sets\n",
    "X_train, X_test, Y1_train, Y1_test = train_test_split(X1, Y1, test_size=0.1, random_state=42)\n",
    "\n",
    "# Convert the data to PyTorch tensors\n",
    "X_train_tensor = torch.tensor(X_train.values, dtype=torch.float32)\n",
    "Y1_train_tensor = torch.tensor(Y1_train.values, dtype=torch.long)\n",
    "X_test_tensor = torch.tensor(X_test.values, dtype=torch.float32)\n",
    "Y1_test_tensor = torch.tensor(Y1_test.values, dtype=torch.long)\n",
    "\n",
    "# Define the hyperparameters\n",
    "input_size = X_train.shape[1]\n",
    "h1=10\n",
    "h2=20\n",
    "h3=10\n",
    "output_size = 2\n",
    "learning_rate = 0.001\n",
    "num_epochs = 5000\n",
    "\n",
    "# Create an instance of the classification model\n",
    "model = ClassificationModel(input_size, h1,h2,h3, output_size)\n",
    "\n",
    "# Define the loss function and optimizer\n",
    "criterion = nn.CrossEntropyLoss()\n",
    "optimizer = optim.Adam(model.parameters(), lr=learning_rate)\n",
    "\n",
    "best_model = None\n",
    "best_epoch = -1\n",
    "best_loss = float('inf')\n",
    "best_accuracy_train = 0\n",
    "best_accuracy_test = 0\n",
    "\n",
    "# Lists to store accuracies\n",
    "training_acc = []\n",
    "testing_acc = []\n",
    "train_loss = []\n",
    "test_loss = []\n",
    "\n",
    "# Training loop\n",
    "for epoch in range(num_epochs):\n",
    "    # Forward pass\n",
    "    outputs = model(X_train_tensor)\n",
    "    loss_train = criterion(outputs, Y1_train_tensor)\n",
    "\n",
    "    # Backward and optimize\n",
    "    optimizer.zero_grad()\n",
    "    loss_train.backward()\n",
    "    optimizer.step()\n",
    "\n",
    "    # Calculate training accuracy\n",
    "    _, predicted_labels_train = torch.max(outputs, 1)\n",
    "    accuracy_train = (predicted_labels_train == Y1_train_tensor).sum().item() / Y1_train_tensor.size(0)\n",
    "\n",
    "    # Evaluate on the testing set\n",
    "    with torch.no_grad():\n",
    "        predicted_Y1 = model(X_test_tensor)\n",
    "        _, predicted_labels = torch.max(predicted_Y1, 1)\n",
    "        accuracy_test = (predicted_labels == Y1_test_tensor).sum().item() / Y1_test_tensor.size(0)\n",
    "        loss_test = criterion(predicted_Y1, Y1_test_tensor)\n",
    "\n",
    "    # Check if this model is better than the previous best model\n",
    "    if loss_train.item() < best_loss:\n",
    "        best_model = model\n",
    "        best_epoch = epoch\n",
    "        best_loss = loss_train.item()\n",
    "        best_accuracy_train = accuracy_train\n",
    "        best_accuracy_test = accuracy_test\n",
    "\n",
    "    # Print the loss and training and testing accuracy for every 50 epochs\n",
    "    if (epoch+1) % 250 == 0:\n",
    "        print(f'Epoch [{epoch+1}/{num_epochs}], Loss: {loss_train.item():.4f}, Training Accuracy: {accuracy_train:.4f}, Testing Accuracy: {accuracy_test:.4f}')\n",
    "        # Store accuracies\n",
    "        training_acc.append(accuracy_train)\n",
    "        testing_acc.append(accuracy_test)\n",
    "        train_loss.append(loss_train.item())\n",
    "        test_loss.append(loss_test.item())\n",
    "\n",
    "# Print the metrics for the best model\n",
    "print(f'Best Model, Epoch [{best_epoch+1}/{num_epochs}], Loss: {best_loss:.4f}, Training Accuracy: {best_accuracy_train:.4f}, Testing Accuracy: {best_accuracy_test:.4f}')"
   ]
  },
  {
   "cell_type": "markdown",
   "metadata": {},
   "source": [
    "<h3><b>Save the Model"
   ]
  },
  {
   "cell_type": "code",
   "execution_count": 35,
   "metadata": {},
   "outputs": [],
   "source": [
    "# import joblib\n",
    "\n",
    "# # Save the best model as a pkl file\n",
    "# joblib.dump(best_model, 'best_model_motor.pkl')"
   ]
  },
  {
   "cell_type": "markdown",
   "metadata": {},
   "source": [
    "<h3><b>Acc Plot Total_UPDRS"
   ]
  },
  {
   "cell_type": "code",
   "execution_count": 36,
   "metadata": {},
   "outputs": [
    {
     "ename": "NameError",
     "evalue": "name 'training_acc' is not defined",
     "output_type": "error",
     "traceback": [
      "\u001b[1;31m---------------------------------------------------------------------------\u001b[0m",
      "\u001b[1;31mNameError\u001b[0m                                 Traceback (most recent call last)",
      "Cell \u001b[1;32mIn[36], line 7\u001b[0m\n\u001b[0;32m      4\u001b[0m plt\u001b[38;5;241m.\u001b[39mfigure(figsize\u001b[38;5;241m=\u001b[39m(\u001b[38;5;241m10\u001b[39m, \u001b[38;5;241m6\u001b[39m))\n\u001b[0;32m      6\u001b[0m \u001b[38;5;66;03m# Plot the training accuracy\u001b[39;00m\n\u001b[1;32m----> 7\u001b[0m plt\u001b[38;5;241m.\u001b[39mplot([i \u001b[38;5;241m*\u001b[39m \u001b[38;5;241m250\u001b[39m \u001b[38;5;28;01mfor\u001b[39;00m i \u001b[38;5;129;01min\u001b[39;00m \u001b[38;5;28mrange\u001b[39m(\u001b[38;5;28mlen\u001b[39m(\u001b[43mtraining_acc\u001b[49m))], training_acc, label\u001b[38;5;241m=\u001b[39m\u001b[38;5;124m'\u001b[39m\u001b[38;5;124mTraining Accuracy\u001b[39m\u001b[38;5;124m'\u001b[39m, marker\u001b[38;5;241m=\u001b[39m\u001b[38;5;124m'\u001b[39m\u001b[38;5;124mo\u001b[39m\u001b[38;5;124m'\u001b[39m)\n\u001b[0;32m      9\u001b[0m \u001b[38;5;66;03m# Plot the testing accuracy\u001b[39;00m\n\u001b[0;32m     10\u001b[0m plt\u001b[38;5;241m.\u001b[39mplot([i \u001b[38;5;241m*\u001b[39m \u001b[38;5;241m250\u001b[39m \u001b[38;5;28;01mfor\u001b[39;00m i \u001b[38;5;129;01min\u001b[39;00m \u001b[38;5;28mrange\u001b[39m(\u001b[38;5;28mlen\u001b[39m(testing_acc))], testing_acc, label\u001b[38;5;241m=\u001b[39m\u001b[38;5;124m'\u001b[39m\u001b[38;5;124mTesting Accuracy\u001b[39m\u001b[38;5;124m'\u001b[39m, marker\u001b[38;5;241m=\u001b[39m\u001b[38;5;124m'\u001b[39m\u001b[38;5;124mo\u001b[39m\u001b[38;5;124m'\u001b[39m)\n",
      "\u001b[1;31mNameError\u001b[0m: name 'training_acc' is not defined"
     ]
    },
    {
     "data": {
      "text/plain": [
       "<Figure size 1000x600 with 0 Axes>"
      ]
     },
     "metadata": {},
     "output_type": "display_data"
    }
   ],
   "source": [
    "import matplotlib.pyplot as plt\n",
    "\n",
    "# Create a new figure\n",
    "plt.figure(figsize=(10, 6))\n",
    "\n",
    "# Plot the training accuracy\n",
    "plt.plot([i * 250 for i in range(len(training_acc))], training_acc, label='Training Accuracy', marker='o')\n",
    "\n",
    "# Plot the testing accuracy\n",
    "plt.plot([i * 250 for i in range(len(testing_acc))], testing_acc, label='Testing Accuracy', marker='o')\n",
    "\n",
    "# Add a legend\n",
    "plt.legend()\n",
    "\n",
    "# Set the x and y labels\n",
    "plt.xlabel('Epochs')\n",
    "plt.ylabel('Accuracy')\n",
    "\n",
    "# Set the title\n",
    "plt.title('Training and Testing Accuracy per 250 Epochs (Total_UPDRS)')\n",
    "\n",
    "# Add a grid\n",
    "plt.grid(True)\n",
    "\n",
    "# Show the plot\n",
    "plt.show()"
   ]
  },
  {
   "cell_type": "markdown",
   "metadata": {},
   "source": [
    "<h3><b>Acc Plot Motor_UPDRS"
   ]
  },
  {
   "cell_type": "code",
   "execution_count": null,
   "metadata": {},
   "outputs": [],
   "source": [
    "import matplotlib.pyplot as plt\n",
    "\n",
    "# Create a new figure\n",
    "plt.figure(figsize=(10, 6))\n",
    "\n",
    "# Plot the training accuracy\n",
    "plt.plot([i * 250 for i in range(len(training_acc))], training_acc, label='Training Accuracy', marker='o')\n",
    "\n",
    "# Plot the testing accuracy\n",
    "plt.plot([i * 250 for i in range(len(testing_acc))], testing_acc, label='Testing Accuracy', marker='o')\n",
    "\n",
    "# Add a legend\n",
    "plt.legend()\n",
    "\n",
    "# Set the x and y labels\n",
    "plt.xlabel('Epochs')\n",
    "plt.ylabel('Accuracy')\n",
    "\n",
    "# Set the title\n",
    "plt.title('Training and Testing Accuracy per 250 Epochs (Motor_UPDRS)')\n",
    "\n",
    "# Add a grid\n",
    "plt.grid(True)\n",
    "\n",
    "# Show the plot\n",
    "plt.show()"
   ]
  },
  {
   "cell_type": "markdown",
   "metadata": {},
   "source": [
    "<h3><b>Error Plot Total_UPDRS"
   ]
  },
  {
   "cell_type": "code",
   "execution_count": null,
   "metadata": {},
   "outputs": [],
   "source": [
    "import matplotlib.pyplot as plt\n",
    "\n",
    "# Create a new figure\n",
    "plt.figure(figsize=(10, 6))\n",
    "\n",
    "# Plot the training accuracy\n",
    "plt.plot([i * 250 for i in range(len(train_loss))], train_loss, label='Training Loss', marker='o')\n",
    "\n",
    "# Plot the testing accuracy\n",
    "plt.plot([i * 250 for i in range(len(test_loss))], test_loss, label='Testing LOss', marker='x')\n",
    "\n",
    "# Add a legend\n",
    "plt.legend()\n",
    "\n",
    "# Set the x and y labels\n",
    "plt.xlabel('Epochs')\n",
    "plt.ylabel('Loss')\n",
    "\n",
    "# Set the title\n",
    "plt.title('Training and Testing Loss per 250 Epochs (Total_UPDRS)')\n",
    "\n",
    "# Add a grid\n",
    "plt.grid(True)\n",
    "\n",
    "# Show the plot\n",
    "plt.show()"
   ]
  },
  {
   "cell_type": "markdown",
   "metadata": {},
   "source": [
    "<h3><b>Error Plot Motor_UPDRS"
   ]
  },
  {
   "cell_type": "code",
   "execution_count": null,
   "metadata": {},
   "outputs": [],
   "source": [
    "import matplotlib.pyplot as plt\n",
    "\n",
    "# Create a new figure\n",
    "plt.figure(figsize=(10, 6))\n",
    "\n",
    "# Plot the training accuracy\n",
    "plt.plot([i * 250 for i in range(len(train_loss))], train_loss, label='Training Loss', marker='o')\n",
    "\n",
    "# Plot the testing accuracy\n",
    "plt.plot([i * 250 for i in range(len(test_loss))], test_loss, label='Testing LOss', marker='x')\n",
    "\n",
    "# Add a legend\n",
    "plt.legend()\n",
    "\n",
    "# Set the x and y labels\n",
    "plt.xlabel('Epochs')\n",
    "plt.ylabel('Loss')\n",
    "\n",
    "# Set the title\n",
    "plt.title('Training and Testing Loss per 250 Epochs (Motor_UPDRS)')\n",
    "\n",
    "# Add a grid\n",
    "plt.grid(True)\n",
    "\n",
    "# Show the plot\n",
    "plt.show()"
   ]
  },
  {
   "cell_type": "markdown",
   "metadata": {},
   "source": [
    "<h3><b>Classification Report"
   ]
  },
  {
   "cell_type": "code",
   "execution_count": null,
   "metadata": {},
   "outputs": [],
   "source": [
    "from sklearn.metrics import classification_report, confusion_matrix\n",
    "\n",
    "# Predict the labels of the test set using the best model\n",
    "Y1_pred = best_model(X_test_tensor)\n",
    "\n",
    "# Get the predicted labels\n",
    "_, predicted_labels = torch.max(Y1_pred, 1)\n",
    "\n",
    "# Calculate the confusion matrix\n",
    "cr = classification_report(Y1_test_tensor, predicted_labels)\n",
    "\n",
    "cm = confusion_matrix(Y1_test_tensor, predicted_labels)\n",
    "\n",
    "# Print the confusion matrix\n",
    "print(cr)\n",
    "print(\"Confusion Matrix:\")\n",
    "print(cm)\n"
   ]
  },
  {
   "cell_type": "code",
   "execution_count": null,
   "metadata": {},
   "outputs": [],
   "source": [
    "import pandas as pd\n",
    "from sklearn.metrics import classification_report\n",
    "\n",
    "# Generate classification report\n",
    "cr = classification_report(Y1_test_tensor, predicted_labels, output_dict=True)\n",
    "\n",
    "# Convert to DataFrame\n",
    "cr_df = pd.DataFrame(cr).transpose()\n",
    "\n",
    "# Save to CSV\n",
    "cr_df.to_csv('classification_report_Total_UPDRS.csv')"
   ]
  },
  {
   "cell_type": "markdown",
   "metadata": {},
   "source": [
    "<b>Considering the total_updrs </b>best model has a training loss =  0.3552, Training Accuracy: 0.9580, Testing Accuracy: 0.9371"
   ]
  },
  {
   "cell_type": "markdown",
   "metadata": {},
   "source": [
    "<b>Considering the total_updrs </b>best model has a training Loss: 0.3140, Training Accuracy: 0.9992, Testing Accuracy: 0.9983"
   ]
  },
  {
   "cell_type": "markdown",
   "metadata": {},
   "source": [
    "----------------------------------------<h1>Done</h1>----------------------------------------------------------"
   ]
  },
  {
   "cell_type": "markdown",
   "metadata": {},
   "source": [
    "<h3><b>AUC-ROC Total_UPDRS"
   ]
  },
  {
   "cell_type": "code",
   "execution_count": null,
   "metadata": {},
   "outputs": [],
   "source": [
    "import matplotlib.pyplot as plt\n",
    "from sklearn.metrics import roc_curve, auc\n",
    "\n",
    "# Generate predictions for test data\n",
    "#y_pred = model.predict(train_dataset[0])\n",
    "\n",
    "# Calculate false positive rate (FPR) and true positive rate (TPR)\n",
    "fpr, tpr, thresholds = roc_curve(Y1_test_tensor, predicted_labels)\n",
    "auc_roc = auc(fpr, tpr)\n",
    "\n",
    "# Set plot style\n",
    "plt.style.use('ggplot')\n",
    "\n",
    "# Plot ROC curve\n",
    "plt.figure(dpi=100)\n",
    "plt.plot(fpr, tpr, color='darkorange', lw=2, label=f'AUC={auc_roc:.3f}', linestyle='--')\n",
    "plt.fill_between(fpr, tpr, color='skyblue', alpha=0.3)\n",
    "plt.xlabel('False Positive Rate')\n",
    "plt.ylabel('True Positive Rate')\n",
    "plt.title('AUC-ROC curve for Total_UPDRS')\n",
    "plt.legend(loc=\"lower right\")\n",
    "plt.grid(True)\n",
    "\n",
    "# Add a background color\n",
    "ax = plt.gca()\n",
    "ax.set_facecolor('whitesmoke')\n",
    "\n",
    "# Calculate area under ROC curve (AUC ROC)\n",
    "print(\"AUC ROC:\", auc_roc)\n",
    "\n",
    "plt.show()"
   ]
  },
  {
   "cell_type": "markdown",
   "metadata": {},
   "source": [
    "<h3><b>AUC-ROC Motor_UPDRS"
   ]
  },
  {
   "cell_type": "code",
   "execution_count": null,
   "metadata": {},
   "outputs": [],
   "source": [
    "import matplotlib.pyplot as plt\n",
    "from sklearn.metrics import roc_curve, auc\n",
    "\n",
    "# Generate predictions for test data\n",
    "#y_pred = model.predict(train_dataset[0])\n",
    "\n",
    "# Calculate false positive rate (FPR) and true positive rate (TPR)\n",
    "fpr, tpr, thresholds = roc_curve(Y1_test_tensor, predicted_labels)\n",
    "auc_roc = auc(fpr, tpr)\n",
    "\n",
    "# Set plot style\n",
    "plt.style.use('ggplot')\n",
    "\n",
    "# Plot ROC curve\n",
    "plt.figure(dpi=100)\n",
    "plt.plot(fpr, tpr, color='darkorange', lw=2, label=f'AUC={auc_roc:.3f}', linestyle='--')\n",
    "plt.fill_between(fpr, tpr, color='skyblue', alpha=0.3)\n",
    "plt.xlabel('False Positive Rate')\n",
    "plt.ylabel('True Positive Rate')\n",
    "plt.title('AUC-ROC curve for Motor_UPDRS')\n",
    "plt.legend(loc=\"lower right\")\n",
    "plt.grid(True)\n",
    "\n",
    "# Add a background color\n",
    "ax = plt.gca()\n",
    "ax.set_facecolor('whitesmoke')\n",
    "\n",
    "# Calculate area under ROC curve (AUC ROC)\n",
    "print(\"AUC ROC:\", auc_roc)\n",
    "\n",
    "plt.show()"
   ]
  },
  {
   "cell_type": "markdown",
   "metadata": {},
   "source": [
    "<h3><b>AUC-PR Total_UPDRS"
   ]
  },
  {
   "cell_type": "code",
   "execution_count": null,
   "metadata": {},
   "outputs": [],
   "source": [
    "import matplotlib.pyplot as plt\n",
    "from sklearn.metrics import roc_curve, auc\n",
    "\n",
    "# Generate predictions for test data\n",
    "#y_pred = model.predict(train_dataset[0])\n",
    "\n",
    "# Calculate false positive rate (FPR) and true positive rate (TPR)\n",
    "fpr, tpr, thresholds = roc_curve(Y1_test_tensor, predicted_labels)\n",
    "auc_roc = auc(fpr, tpr)\n",
    "\n",
    "from sklearn.metrics import precision_recall_curve, average_precision_score,auc\n",
    "precision,recall,thresholds=precision_recall_curve(Y1_test_tensor, predicted_labels)\n",
    "avg_precision=average_precision_score(Y1_test_tensor, predicted_labels)\n",
    "pr_auc=auc(recall,precision)\n",
    "plt.figure(dpi=100)\n",
    "plt.plot(recall,precision,lw=1,color='red',label=f'AP={avg_precision:.3f};AUC={pr_auc:.3f}')\n",
    "plt.fill_between(recall,precision,-1,facecolor='y',alpha=0.5)\n",
    "plt.title('AUC-PR Curve for Total_UPDRS')\n",
    "plt.xlabel('Recall(TPR)')\n",
    "plt.ylabel('Precision')\n",
    "plt.xlim([-0.05,1.05])\n",
    "plt.ylim([-0.05,1.05])\n",
    "plt.legend()\n",
    "plt.show()"
   ]
  },
  {
   "cell_type": "markdown",
   "metadata": {},
   "source": [
    "<h3><b>AUC-PR Motor_UPDRS"
   ]
  },
  {
   "cell_type": "code",
   "execution_count": null,
   "metadata": {},
   "outputs": [],
   "source": [
    "import matplotlib.pyplot as plt\n",
    "from sklearn.metrics import roc_curve, auc\n",
    "\n",
    "# Generate predictions for test data\n",
    "#y_pred = model.predict(train_dataset[0])\n",
    "\n",
    "# Calculate false positive rate (FPR) and true positive rate (TPR)\n",
    "fpr, tpr, thresholds = roc_curve(Y1_test_tensor, predicted_labels)\n",
    "auc_roc = auc(fpr, tpr)\n",
    "\n",
    "from sklearn.metrics import precision_recall_curve, average_precision_score,auc\n",
    "precision,recall,thresholds=precision_recall_curve(Y1_test_tensor, predicted_labels)\n",
    "avg_precision=average_precision_score(Y1_test_tensor, predicted_labels)\n",
    "pr_auc=auc(recall,precision)\n",
    "plt.figure(dpi=100)\n",
    "plt.plot(recall,precision,lw=1,color='red',label=f'AP={avg_precision:.3f};AUC={pr_auc:.3f}')\n",
    "plt.fill_between(recall,precision,-1,facecolor='y',alpha=0.5)\n",
    "plt.title('AUC-PR Curve for Motor_UPDRS')\n",
    "plt.xlabel('Recall(TPR)')\n",
    "plt.ylabel('Precision')\n",
    "plt.xlim([-0.05,1.05])\n",
    "plt.ylim([-0.05,1.05])\n",
    "plt.legend()\n",
    "plt.show()"
   ]
  }
 ],
 "metadata": {
  "kernelspec": {
   "display_name": "Python 3",
   "language": "python",
   "name": "python3"
  },
  "language_info": {
   "codemirror_mode": {
    "name": "ipython",
    "version": 3
   },
   "file_extension": ".py",
   "mimetype": "text/x-python",
   "name": "python",
   "nbconvert_exporter": "python",
   "pygments_lexer": "ipython3",
   "version": "3.10.13"
  }
 },
 "nbformat": 4,
 "nbformat_minor": 2
}
